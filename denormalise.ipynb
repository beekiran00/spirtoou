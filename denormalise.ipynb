{
 "cells": [
  {
   "cell_type": "markdown",
   "metadata": {},
   "source": [
    "# Spirtoou"
   ]
  },
  {
   "cell_type": "code",
   "execution_count": 35,
   "metadata": {},
   "outputs": [],
   "source": [
    "## ALL PYTHON LIBRARIES\n",
    "\n",
    "import pandas as pd\n",
    "import numpy as np\n",
    "import matplotlib.pyplot as plt\n",
    "import seaborn as sns\n",
    "import plotly.graph_objs as go\n",
    "import plotly.express as px\n",
    "import requests"
   ]
  },
  {
   "cell_type": "markdown",
   "metadata": {},
   "source": [
    "## Importing GDELT libraries"
   ]
  },
  {
   "cell_type": "code",
   "execution_count": 2,
   "metadata": {},
   "outputs": [],
   "source": [
    "## GDELT LIBRARIES\n",
    "\n",
    "from gdeltdoc import GdeltDoc, Filters"
   ]
  },
  {
   "cell_type": "markdown",
   "metadata": {},
   "source": [
    "documentation link: https://github.com/alex9smith/gdelt-doc-api"
   ]
  },
  {
   "cell_type": "code",
   "execution_count": 3,
   "metadata": {},
   "outputs": [],
   "source": [
    "# creating a gdelt query aka filters\n",
    "\n",
    "f = Filters(\n",
    "    keyword = \"climate change\", # filter comes with the keyword that is the search query for news\n",
    "    start_date = \"2020-05-10\", #start date \n",
    "    end_date = \"2020-05-11\" #end date\n",
    ")\n",
    "\n",
    "#initialize gdelt \n",
    "gd = GdeltDoc()  \n",
    "\n",
    "# Search for articles matching filter\n",
    "\n",
    "articles = gd.article_search(f) # article search is a gdelt library inbuilt command to search for all articles matching the query\n",
    "\n",
    "# Get a timeline of the number of articles matching the filters\n",
    "timeline = gd.timeline_search(\"timelinevol\", f) # timeline_search is also an ibuilt command.\n",
    "timeline_tone = gd.timeline_search(\"timelinetone\", f)\n",
    "timelinevol_raw = gd.timeline_search(\"timelinevolraw\", f)\n",
    "\n",
    "\n",
    "\n",
    "### Visit docs to see the various timeline search methods\n",
    "\n",
    "\n"
   ]
  },
  {
   "cell_type": "markdown",
   "metadata": {},
   "source": [
    "Visit the docs above^ to see all the query methods and options"
   ]
  },
  {
   "cell_type": "code",
   "execution_count": 4,
   "metadata": {},
   "outputs": [
    {
     "name": "stdout",
     "output_type": "stream",
     "text": [
      "                                                   url  \\\n",
      "0    https://www.sueddeutsche.de/wissen/corona-klim...   \n",
      "1    https://saudigazette.com.sa/article/592941/Wor...   \n",
      "2    https://laverdadnoticias.com/ecologia/Covid-19...   \n",
      "3    http://www.busan.com/view/busan/view.php?code=...   \n",
      "4    https://www.albayan.ae/across-the-uae/news-and...   \n",
      "..                                                 ...   \n",
      "245  https://www.bnnbloomberg.ca/europe-envoys-defe...   \n",
      "246  https://globalnews.ca/news/6920842/ticks-lyme-...   \n",
      "247  https://theconversation.com/coronavirus-shows-...   \n",
      "248  https://www.infolibre.es/noticias/economia/202...   \n",
      "249  https://www.diariovasco.com/sociedad/ciencia/n...   \n",
      "\n",
      "                                            url_mobile  \\\n",
      "0    https://www.sueddeutsche.de/wissen/corona-klim...   \n",
      "1                                                        \n",
      "2    https://laverdadnoticias.com/amp/ecologia/Covi...   \n",
      "3                                                        \n",
      "4    https://www.albayan.ae/across-the-uae/news-and...   \n",
      "..                                                 ...   \n",
      "245                                                      \n",
      "246  https://globalnews.ca/news/6920842/ticks-lyme-...   \n",
      "247  https://theconversation.com/amp/coronavirus-sh...   \n",
      "248                                                      \n",
      "249  https://www.diariovasco.com/sociedad/ciencia/n...   \n",
      "\n",
      "                                                 title          seendate  \\\n",
      "0    Trotzt Corona : Mehrheit für kon­se­quenten Kl...  20200510T190000Z   \n",
      "1    Virus should be a wake - up call to every gove...  20200510T201500Z   \n",
      "2    Covid - 19 : La disminución de contaminación e...  20200510T210000Z   \n",
      "3                     생태계 교란종  등검은말벌  급속 확산 … 꿀벌 다 죽인다  20200510T170000Z   \n",
      "4              كورونا نقطة تحول فاصلة في تاريخ البشرية  20200510T161500Z   \n",
      "..                                                 ...               ...   \n",
      "245  Europe Envoys Defend Decision to Let China Med...  20200510T004500Z   \n",
      "246  More ticks and more Lyme disease in Canada fut...  20200510T110000Z   \n",
      "247  Coronavirus shows housing costs leave many ins...  20200510T231500Z   \n",
      "248  La receta para superar la crisis : reinventar ...  20200510T053000Z   \n",
      "249  La pérdida de nieve en el Tibet favorece la ex...  20200510T091500Z   \n",
      "\n",
      "                                           socialimage                domain  \\\n",
      "0    https://www.sueddeutsche.de/image/sz.1.4902342...       sueddeutsche.de   \n",
      "1    https://saudigazette.com.sa/uploads/images/202...   saudigazette.com.sa   \n",
      "2    https://laverdadnoticias.com/__export/15891399...  laverdadnoticias.com   \n",
      "3    http://www.busan.com/nas/wcms/wcms_data/photos...             busan.com   \n",
      "4    https://www.albayan.ae/polopoly_fs/1.3855034.1...            albayan.ae   \n",
      "..                                                 ...                   ...   \n",
      "245                                                          bnnbloomberg.ca   \n",
      "246  https://shawglobalnews.files.wordpress.com/202...         globalnews.ca   \n",
      "247  https://images.theconversation.com/files/33356...   theconversation.com   \n",
      "248  https://d3cra5ec8gdi8w.cloudfront.net/uploads/...          infolibre.es   \n",
      "249  https://static1.diariovasco.com/www/multimedia...       diariovasco.com   \n",
      "\n",
      "    language         sourcecountry  \n",
      "0     German               Germany  \n",
      "1    English          Saudi Arabia  \n",
      "2    Spanish                Mexico  \n",
      "3     Korean           South Korea  \n",
      "4     Arabic  United Arab Emirates  \n",
      "..       ...                   ...  \n",
      "245  English                Canada  \n",
      "246  English                Canada  \n",
      "247  English             Australia  \n",
      "248  Spanish                 Spain  \n",
      "249  Spanish                 Spain  \n",
      "\n",
      "[250 rows x 8 columns]\n"
     ]
    }
   ],
   "source": [
    "# display all the articles that we searched for\n",
    "\n",
    "print(articles)"
   ]
  },
  {
   "cell_type": "code",
   "execution_count": 20,
   "metadata": {},
   "outputs": [],
   "source": [
    "# display all the timeline of all the articles\n",
    "\n",
    "#print(timeline)\n",
    "\n",
    "## MAKING THE RESULTS OF GDELT API INTO DATAFRAMES\n",
    "\n",
    "df_timeline = pd.DataFrame(timeline) #DF for timeline\n",
    "df_timeline_tone = pd.DataFrame(timeline_tone) #DF for timeline tones/sentiments\n"
   ]
  },
  {
   "cell_type": "code",
   "execution_count": 17,
   "metadata": {},
   "outputs": [
    {
     "data": {
      "text/html": [
       "<div>\n",
       "<style scoped>\n",
       "    .dataframe tbody tr th:only-of-type {\n",
       "        vertical-align: middle;\n",
       "    }\n",
       "\n",
       "    .dataframe tbody tr th {\n",
       "        vertical-align: top;\n",
       "    }\n",
       "\n",
       "    .dataframe thead th {\n",
       "        text-align: right;\n",
       "    }\n",
       "</style>\n",
       "<table border=\"1\" class=\"dataframe\">\n",
       "  <thead>\n",
       "    <tr style=\"text-align: right;\">\n",
       "      <th></th>\n",
       "      <th>datetime</th>\n",
       "      <th>Volume Intensity</th>\n",
       "    </tr>\n",
       "  </thead>\n",
       "  <tbody>\n",
       "    <tr>\n",
       "      <th>0</th>\n",
       "      <td>2020-05-10 00:00:00+00:00</td>\n",
       "      <td>0.1839</td>\n",
       "    </tr>\n",
       "    <tr>\n",
       "      <th>1</th>\n",
       "      <td>2020-05-10 00:15:00+00:00</td>\n",
       "      <td>0.4375</td>\n",
       "    </tr>\n",
       "    <tr>\n",
       "      <th>2</th>\n",
       "      <td>2020-05-10 00:30:00+00:00</td>\n",
       "      <td>0.1273</td>\n",
       "    </tr>\n",
       "    <tr>\n",
       "      <th>3</th>\n",
       "      <td>2020-05-10 00:45:00+00:00</td>\n",
       "      <td>0.6582</td>\n",
       "    </tr>\n",
       "    <tr>\n",
       "      <th>4</th>\n",
       "      <td>2020-05-10 01:00:00+00:00</td>\n",
       "      <td>0.5048</td>\n",
       "    </tr>\n",
       "  </tbody>\n",
       "</table>\n",
       "</div>"
      ],
      "text/plain": [
       "                   datetime  Volume Intensity\n",
       "0 2020-05-10 00:00:00+00:00            0.1839\n",
       "1 2020-05-10 00:15:00+00:00            0.4375\n",
       "2 2020-05-10 00:30:00+00:00            0.1273\n",
       "3 2020-05-10 00:45:00+00:00            0.6582\n",
       "4 2020-05-10 01:00:00+00:00            0.5048"
      ]
     },
     "execution_count": 17,
     "metadata": {},
     "output_type": "execute_result"
    }
   ],
   "source": [
    "df_timeline.head()"
   ]
  },
  {
   "cell_type": "code",
   "execution_count": 7,
   "metadata": {},
   "outputs": [
    {
     "data": {
      "text/html": [
       "<div>\n",
       "<style scoped>\n",
       "    .dataframe tbody tr th:only-of-type {\n",
       "        vertical-align: middle;\n",
       "    }\n",
       "\n",
       "    .dataframe tbody tr th {\n",
       "        vertical-align: top;\n",
       "    }\n",
       "\n",
       "    .dataframe thead th {\n",
       "        text-align: right;\n",
       "    }\n",
       "</style>\n",
       "<table border=\"1\" class=\"dataframe\">\n",
       "  <thead>\n",
       "    <tr style=\"text-align: right;\">\n",
       "      <th></th>\n",
       "      <th>datetime</th>\n",
       "      <th>Average Tone</th>\n",
       "    </tr>\n",
       "  </thead>\n",
       "  <tbody>\n",
       "    <tr>\n",
       "      <th>0</th>\n",
       "      <td>2020-05-10 00:00:00+00:00</td>\n",
       "      <td>-3.2793</td>\n",
       "    </tr>\n",
       "    <tr>\n",
       "      <th>1</th>\n",
       "      <td>2020-05-10 00:15:00+00:00</td>\n",
       "      <td>-1.6852</td>\n",
       "    </tr>\n",
       "    <tr>\n",
       "      <th>2</th>\n",
       "      <td>2020-05-10 00:30:00+00:00</td>\n",
       "      <td>0.3103</td>\n",
       "    </tr>\n",
       "    <tr>\n",
       "      <th>3</th>\n",
       "      <td>2020-05-10 00:45:00+00:00</td>\n",
       "      <td>-0.8980</td>\n",
       "    </tr>\n",
       "    <tr>\n",
       "      <th>4</th>\n",
       "      <td>2020-05-10 01:00:00+00:00</td>\n",
       "      <td>-1.8854</td>\n",
       "    </tr>\n",
       "  </tbody>\n",
       "</table>\n",
       "</div>"
      ],
      "text/plain": [
       "                   datetime  Average Tone\n",
       "0 2020-05-10 00:00:00+00:00       -3.2793\n",
       "1 2020-05-10 00:15:00+00:00       -1.6852\n",
       "2 2020-05-10 00:30:00+00:00        0.3103\n",
       "3 2020-05-10 00:45:00+00:00       -0.8980\n",
       "4 2020-05-10 01:00:00+00:00       -1.8854"
      ]
     },
     "execution_count": 7,
     "metadata": {},
     "output_type": "execute_result"
    }
   ],
   "source": [
    "df_timeline_tone.head()"
   ]
  },
  {
   "cell_type": "code",
   "execution_count": 18,
   "metadata": {},
   "outputs": [
    {
     "data": {
      "application/vnd.plotly.v1+json": {
       "config": {
        "plotlyServerURL": "https://plot.ly"
       },
       "data": [
        {
         "hovertemplate": "datetime=%{x}<br>Volume Intensity=%{y}<extra></extra>",
         "legendgroup": "",
         "line": {
          "color": "#636efa",
          "dash": "solid"
         },
         "marker": {
          "symbol": "circle"
         },
         "mode": "lines",
         "name": "",
         "orientation": "v",
         "showlegend": false,
         "type": "scatter",
         "x": [
          "2020-05-10T00:00:00+00:00",
          "2020-05-10T00:15:00+00:00",
          "2020-05-10T00:30:00+00:00",
          "2020-05-10T00:45:00+00:00",
          "2020-05-10T01:00:00+00:00",
          "2020-05-10T01:15:00+00:00",
          "2020-05-10T01:30:00+00:00",
          "2020-05-10T01:45:00+00:00",
          "2020-05-10T02:00:00+00:00",
          "2020-05-10T02:15:00+00:00",
          "2020-05-10T02:30:00+00:00",
          "2020-05-10T02:45:00+00:00",
          "2020-05-10T03:00:00+00:00",
          "2020-05-10T03:15:00+00:00",
          "2020-05-10T03:30:00+00:00",
          "2020-05-10T03:45:00+00:00",
          "2020-05-10T04:00:00+00:00",
          "2020-05-10T04:15:00+00:00",
          "2020-05-10T04:30:00+00:00",
          "2020-05-10T04:45:00+00:00",
          "2020-05-10T05:00:00+00:00",
          "2020-05-10T05:15:00+00:00",
          "2020-05-10T05:30:00+00:00",
          "2020-05-10T05:45:00+00:00",
          "2020-05-10T06:00:00+00:00",
          "2020-05-10T06:15:00+00:00",
          "2020-05-10T06:30:00+00:00",
          "2020-05-10T06:45:00+00:00",
          "2020-05-10T07:00:00+00:00",
          "2020-05-10T07:15:00+00:00",
          "2020-05-10T07:30:00+00:00",
          "2020-05-10T07:45:00+00:00",
          "2020-05-10T08:00:00+00:00",
          "2020-05-10T08:15:00+00:00",
          "2020-05-10T08:30:00+00:00",
          "2020-05-10T08:45:00+00:00",
          "2020-05-10T09:00:00+00:00",
          "2020-05-10T09:15:00+00:00",
          "2020-05-10T09:30:00+00:00",
          "2020-05-10T09:45:00+00:00",
          "2020-05-10T10:00:00+00:00",
          "2020-05-10T10:15:00+00:00",
          "2020-05-10T10:30:00+00:00",
          "2020-05-10T10:45:00+00:00",
          "2020-05-10T11:00:00+00:00",
          "2020-05-10T11:15:00+00:00",
          "2020-05-10T11:30:00+00:00",
          "2020-05-10T11:45:00+00:00",
          "2020-05-10T12:00:00+00:00",
          "2020-05-10T12:15:00+00:00",
          "2020-05-10T12:30:00+00:00",
          "2020-05-10T12:45:00+00:00",
          "2020-05-10T13:00:00+00:00",
          "2020-05-10T13:15:00+00:00",
          "2020-05-10T13:30:00+00:00",
          "2020-05-10T13:45:00+00:00",
          "2020-05-10T14:00:00+00:00",
          "2020-05-10T14:15:00+00:00",
          "2020-05-10T14:30:00+00:00",
          "2020-05-10T14:45:00+00:00",
          "2020-05-10T15:00:00+00:00",
          "2020-05-10T15:15:00+00:00",
          "2020-05-10T15:30:00+00:00",
          "2020-05-10T15:45:00+00:00",
          "2020-05-10T16:00:00+00:00",
          "2020-05-10T16:15:00+00:00",
          "2020-05-10T16:30:00+00:00",
          "2020-05-10T16:45:00+00:00",
          "2020-05-10T17:00:00+00:00",
          "2020-05-10T17:15:00+00:00",
          "2020-05-10T17:30:00+00:00",
          "2020-05-10T17:45:00+00:00",
          "2020-05-10T18:00:00+00:00",
          "2020-05-10T18:15:00+00:00",
          "2020-05-10T18:30:00+00:00",
          "2020-05-10T18:45:00+00:00",
          "2020-05-10T19:00:00+00:00",
          "2020-05-10T19:15:00+00:00",
          "2020-05-10T19:30:00+00:00",
          "2020-05-10T19:45:00+00:00",
          "2020-05-10T20:00:00+00:00",
          "2020-05-10T20:15:00+00:00",
          "2020-05-10T20:30:00+00:00",
          "2020-05-10T20:45:00+00:00",
          "2020-05-10T21:00:00+00:00",
          "2020-05-10T21:15:00+00:00",
          "2020-05-10T21:30:00+00:00",
          "2020-05-10T21:45:00+00:00",
          "2020-05-10T22:00:00+00:00",
          "2020-05-10T22:15:00+00:00",
          "2020-05-10T22:30:00+00:00",
          "2020-05-10T22:45:00+00:00",
          "2020-05-10T23:00:00+00:00",
          "2020-05-10T23:15:00+00:00",
          "2020-05-10T23:30:00+00:00",
          "2020-05-10T23:45:00+00:00",
          "2020-05-11T00:00:00+00:00"
         ],
         "xaxis": "x",
         "y": [
          0.1839,
          0.4375,
          0.1273,
          0.6582,
          0.5048,
          0.14,
          0.3462,
          0.3201,
          0.3241,
          0.7603,
          0.5405,
          0.3261,
          0.3135,
          0.2564,
          0.4929,
          0.3925,
          0.2957,
          0.1045,
          0.1821,
          0.2248,
          0.5707,
          0.2725,
          0.3036,
          0.4109,
          0.3737,
          0.2086,
          0.6928,
          0.2253,
          0.3785,
          0.4594,
          0.4483,
          0.6586,
          0.5031,
          0.4036,
          0.5598,
          0.3712,
          0.5616,
          0.5454,
          0.4863,
          0.4577,
          0.518,
          0.4975,
          0.4478,
          0.4636,
          0.4371,
          0.4309,
          0.5037,
          0.398,
          0.2976,
          0.1961,
          0.3259,
          0.3546,
          0.2676,
          0.4072,
          0.4757,
          0.2596,
          0.3331,
          0.5439,
          0.5755,
          0.3778,
          0.4431,
          0.8288,
          0.4367,
          0.613,
          0.4782,
          0.6707,
          0.5181,
          0.2224,
          0.4266,
          0.4456,
          0.9168,
          0.4825,
          0.4352,
          0.4798,
          0.6926,
          0.7442,
          0.7568,
          0.5749,
          0.6083,
          0.6517,
          0.5846,
          1.1066,
          0.6678,
          0.6554,
          0.6142,
          0.4906,
          0.4818,
          0.7761,
          0.6934,
          0.5062,
          0.24,
          0.5117,
          0.5805,
          0.2661,
          0.6459,
          0.4957,
          0.2811
         ],
         "yaxis": "y"
        }
       ],
       "layout": {
        "legend": {
         "tracegroupgap": 0
        },
        "template": {
         "data": {
          "bar": [
           {
            "error_x": {
             "color": "#2a3f5f"
            },
            "error_y": {
             "color": "#2a3f5f"
            },
            "marker": {
             "line": {
              "color": "#E5ECF6",
              "width": 0.5
             },
             "pattern": {
              "fillmode": "overlay",
              "size": 10,
              "solidity": 0.2
             }
            },
            "type": "bar"
           }
          ],
          "barpolar": [
           {
            "marker": {
             "line": {
              "color": "#E5ECF6",
              "width": 0.5
             },
             "pattern": {
              "fillmode": "overlay",
              "size": 10,
              "solidity": 0.2
             }
            },
            "type": "barpolar"
           }
          ],
          "carpet": [
           {
            "aaxis": {
             "endlinecolor": "#2a3f5f",
             "gridcolor": "white",
             "linecolor": "white",
             "minorgridcolor": "white",
             "startlinecolor": "#2a3f5f"
            },
            "baxis": {
             "endlinecolor": "#2a3f5f",
             "gridcolor": "white",
             "linecolor": "white",
             "minorgridcolor": "white",
             "startlinecolor": "#2a3f5f"
            },
            "type": "carpet"
           }
          ],
          "choropleth": [
           {
            "colorbar": {
             "outlinewidth": 0,
             "ticks": ""
            },
            "type": "choropleth"
           }
          ],
          "contour": [
           {
            "colorbar": {
             "outlinewidth": 0,
             "ticks": ""
            },
            "colorscale": [
             [
              0,
              "#0d0887"
             ],
             [
              0.1111111111111111,
              "#46039f"
             ],
             [
              0.2222222222222222,
              "#7201a8"
             ],
             [
              0.3333333333333333,
              "#9c179e"
             ],
             [
              0.4444444444444444,
              "#bd3786"
             ],
             [
              0.5555555555555556,
              "#d8576b"
             ],
             [
              0.6666666666666666,
              "#ed7953"
             ],
             [
              0.7777777777777778,
              "#fb9f3a"
             ],
             [
              0.8888888888888888,
              "#fdca26"
             ],
             [
              1,
              "#f0f921"
             ]
            ],
            "type": "contour"
           }
          ],
          "contourcarpet": [
           {
            "colorbar": {
             "outlinewidth": 0,
             "ticks": ""
            },
            "type": "contourcarpet"
           }
          ],
          "heatmap": [
           {
            "colorbar": {
             "outlinewidth": 0,
             "ticks": ""
            },
            "colorscale": [
             [
              0,
              "#0d0887"
             ],
             [
              0.1111111111111111,
              "#46039f"
             ],
             [
              0.2222222222222222,
              "#7201a8"
             ],
             [
              0.3333333333333333,
              "#9c179e"
             ],
             [
              0.4444444444444444,
              "#bd3786"
             ],
             [
              0.5555555555555556,
              "#d8576b"
             ],
             [
              0.6666666666666666,
              "#ed7953"
             ],
             [
              0.7777777777777778,
              "#fb9f3a"
             ],
             [
              0.8888888888888888,
              "#fdca26"
             ],
             [
              1,
              "#f0f921"
             ]
            ],
            "type": "heatmap"
           }
          ],
          "heatmapgl": [
           {
            "colorbar": {
             "outlinewidth": 0,
             "ticks": ""
            },
            "colorscale": [
             [
              0,
              "#0d0887"
             ],
             [
              0.1111111111111111,
              "#46039f"
             ],
             [
              0.2222222222222222,
              "#7201a8"
             ],
             [
              0.3333333333333333,
              "#9c179e"
             ],
             [
              0.4444444444444444,
              "#bd3786"
             ],
             [
              0.5555555555555556,
              "#d8576b"
             ],
             [
              0.6666666666666666,
              "#ed7953"
             ],
             [
              0.7777777777777778,
              "#fb9f3a"
             ],
             [
              0.8888888888888888,
              "#fdca26"
             ],
             [
              1,
              "#f0f921"
             ]
            ],
            "type": "heatmapgl"
           }
          ],
          "histogram": [
           {
            "marker": {
             "pattern": {
              "fillmode": "overlay",
              "size": 10,
              "solidity": 0.2
             }
            },
            "type": "histogram"
           }
          ],
          "histogram2d": [
           {
            "colorbar": {
             "outlinewidth": 0,
             "ticks": ""
            },
            "colorscale": [
             [
              0,
              "#0d0887"
             ],
             [
              0.1111111111111111,
              "#46039f"
             ],
             [
              0.2222222222222222,
              "#7201a8"
             ],
             [
              0.3333333333333333,
              "#9c179e"
             ],
             [
              0.4444444444444444,
              "#bd3786"
             ],
             [
              0.5555555555555556,
              "#d8576b"
             ],
             [
              0.6666666666666666,
              "#ed7953"
             ],
             [
              0.7777777777777778,
              "#fb9f3a"
             ],
             [
              0.8888888888888888,
              "#fdca26"
             ],
             [
              1,
              "#f0f921"
             ]
            ],
            "type": "histogram2d"
           }
          ],
          "histogram2dcontour": [
           {
            "colorbar": {
             "outlinewidth": 0,
             "ticks": ""
            },
            "colorscale": [
             [
              0,
              "#0d0887"
             ],
             [
              0.1111111111111111,
              "#46039f"
             ],
             [
              0.2222222222222222,
              "#7201a8"
             ],
             [
              0.3333333333333333,
              "#9c179e"
             ],
             [
              0.4444444444444444,
              "#bd3786"
             ],
             [
              0.5555555555555556,
              "#d8576b"
             ],
             [
              0.6666666666666666,
              "#ed7953"
             ],
             [
              0.7777777777777778,
              "#fb9f3a"
             ],
             [
              0.8888888888888888,
              "#fdca26"
             ],
             [
              1,
              "#f0f921"
             ]
            ],
            "type": "histogram2dcontour"
           }
          ],
          "mesh3d": [
           {
            "colorbar": {
             "outlinewidth": 0,
             "ticks": ""
            },
            "type": "mesh3d"
           }
          ],
          "parcoords": [
           {
            "line": {
             "colorbar": {
              "outlinewidth": 0,
              "ticks": ""
             }
            },
            "type": "parcoords"
           }
          ],
          "pie": [
           {
            "automargin": true,
            "type": "pie"
           }
          ],
          "scatter": [
           {
            "fillpattern": {
             "fillmode": "overlay",
             "size": 10,
             "solidity": 0.2
            },
            "type": "scatter"
           }
          ],
          "scatter3d": [
           {
            "line": {
             "colorbar": {
              "outlinewidth": 0,
              "ticks": ""
             }
            },
            "marker": {
             "colorbar": {
              "outlinewidth": 0,
              "ticks": ""
             }
            },
            "type": "scatter3d"
           }
          ],
          "scattercarpet": [
           {
            "marker": {
             "colorbar": {
              "outlinewidth": 0,
              "ticks": ""
             }
            },
            "type": "scattercarpet"
           }
          ],
          "scattergeo": [
           {
            "marker": {
             "colorbar": {
              "outlinewidth": 0,
              "ticks": ""
             }
            },
            "type": "scattergeo"
           }
          ],
          "scattergl": [
           {
            "marker": {
             "colorbar": {
              "outlinewidth": 0,
              "ticks": ""
             }
            },
            "type": "scattergl"
           }
          ],
          "scattermapbox": [
           {
            "marker": {
             "colorbar": {
              "outlinewidth": 0,
              "ticks": ""
             }
            },
            "type": "scattermapbox"
           }
          ],
          "scatterpolar": [
           {
            "marker": {
             "colorbar": {
              "outlinewidth": 0,
              "ticks": ""
             }
            },
            "type": "scatterpolar"
           }
          ],
          "scatterpolargl": [
           {
            "marker": {
             "colorbar": {
              "outlinewidth": 0,
              "ticks": ""
             }
            },
            "type": "scatterpolargl"
           }
          ],
          "scatterternary": [
           {
            "marker": {
             "colorbar": {
              "outlinewidth": 0,
              "ticks": ""
             }
            },
            "type": "scatterternary"
           }
          ],
          "surface": [
           {
            "colorbar": {
             "outlinewidth": 0,
             "ticks": ""
            },
            "colorscale": [
             [
              0,
              "#0d0887"
             ],
             [
              0.1111111111111111,
              "#46039f"
             ],
             [
              0.2222222222222222,
              "#7201a8"
             ],
             [
              0.3333333333333333,
              "#9c179e"
             ],
             [
              0.4444444444444444,
              "#bd3786"
             ],
             [
              0.5555555555555556,
              "#d8576b"
             ],
             [
              0.6666666666666666,
              "#ed7953"
             ],
             [
              0.7777777777777778,
              "#fb9f3a"
             ],
             [
              0.8888888888888888,
              "#fdca26"
             ],
             [
              1,
              "#f0f921"
             ]
            ],
            "type": "surface"
           }
          ],
          "table": [
           {
            "cells": {
             "fill": {
              "color": "#EBF0F8"
             },
             "line": {
              "color": "white"
             }
            },
            "header": {
             "fill": {
              "color": "#C8D4E3"
             },
             "line": {
              "color": "white"
             }
            },
            "type": "table"
           }
          ]
         },
         "layout": {
          "annotationdefaults": {
           "arrowcolor": "#2a3f5f",
           "arrowhead": 0,
           "arrowwidth": 1
          },
          "autotypenumbers": "strict",
          "coloraxis": {
           "colorbar": {
            "outlinewidth": 0,
            "ticks": ""
           }
          },
          "colorscale": {
           "diverging": [
            [
             0,
             "#8e0152"
            ],
            [
             0.1,
             "#c51b7d"
            ],
            [
             0.2,
             "#de77ae"
            ],
            [
             0.3,
             "#f1b6da"
            ],
            [
             0.4,
             "#fde0ef"
            ],
            [
             0.5,
             "#f7f7f7"
            ],
            [
             0.6,
             "#e6f5d0"
            ],
            [
             0.7,
             "#b8e186"
            ],
            [
             0.8,
             "#7fbc41"
            ],
            [
             0.9,
             "#4d9221"
            ],
            [
             1,
             "#276419"
            ]
           ],
           "sequential": [
            [
             0,
             "#0d0887"
            ],
            [
             0.1111111111111111,
             "#46039f"
            ],
            [
             0.2222222222222222,
             "#7201a8"
            ],
            [
             0.3333333333333333,
             "#9c179e"
            ],
            [
             0.4444444444444444,
             "#bd3786"
            ],
            [
             0.5555555555555556,
             "#d8576b"
            ],
            [
             0.6666666666666666,
             "#ed7953"
            ],
            [
             0.7777777777777778,
             "#fb9f3a"
            ],
            [
             0.8888888888888888,
             "#fdca26"
            ],
            [
             1,
             "#f0f921"
            ]
           ],
           "sequentialminus": [
            [
             0,
             "#0d0887"
            ],
            [
             0.1111111111111111,
             "#46039f"
            ],
            [
             0.2222222222222222,
             "#7201a8"
            ],
            [
             0.3333333333333333,
             "#9c179e"
            ],
            [
             0.4444444444444444,
             "#bd3786"
            ],
            [
             0.5555555555555556,
             "#d8576b"
            ],
            [
             0.6666666666666666,
             "#ed7953"
            ],
            [
             0.7777777777777778,
             "#fb9f3a"
            ],
            [
             0.8888888888888888,
             "#fdca26"
            ],
            [
             1,
             "#f0f921"
            ]
           ]
          },
          "colorway": [
           "#636efa",
           "#EF553B",
           "#00cc96",
           "#ab63fa",
           "#FFA15A",
           "#19d3f3",
           "#FF6692",
           "#B6E880",
           "#FF97FF",
           "#FECB52"
          ],
          "font": {
           "color": "#2a3f5f"
          },
          "geo": {
           "bgcolor": "white",
           "lakecolor": "white",
           "landcolor": "#E5ECF6",
           "showlakes": true,
           "showland": true,
           "subunitcolor": "white"
          },
          "hoverlabel": {
           "align": "left"
          },
          "hovermode": "closest",
          "mapbox": {
           "style": "light"
          },
          "paper_bgcolor": "white",
          "plot_bgcolor": "#E5ECF6",
          "polar": {
           "angularaxis": {
            "gridcolor": "white",
            "linecolor": "white",
            "ticks": ""
           },
           "bgcolor": "#E5ECF6",
           "radialaxis": {
            "gridcolor": "white",
            "linecolor": "white",
            "ticks": ""
           }
          },
          "scene": {
           "xaxis": {
            "backgroundcolor": "#E5ECF6",
            "gridcolor": "white",
            "gridwidth": 2,
            "linecolor": "white",
            "showbackground": true,
            "ticks": "",
            "zerolinecolor": "white"
           },
           "yaxis": {
            "backgroundcolor": "#E5ECF6",
            "gridcolor": "white",
            "gridwidth": 2,
            "linecolor": "white",
            "showbackground": true,
            "ticks": "",
            "zerolinecolor": "white"
           },
           "zaxis": {
            "backgroundcolor": "#E5ECF6",
            "gridcolor": "white",
            "gridwidth": 2,
            "linecolor": "white",
            "showbackground": true,
            "ticks": "",
            "zerolinecolor": "white"
           }
          },
          "shapedefaults": {
           "line": {
            "color": "#2a3f5f"
           }
          },
          "ternary": {
           "aaxis": {
            "gridcolor": "white",
            "linecolor": "white",
            "ticks": ""
           },
           "baxis": {
            "gridcolor": "white",
            "linecolor": "white",
            "ticks": ""
           },
           "bgcolor": "#E5ECF6",
           "caxis": {
            "gridcolor": "white",
            "linecolor": "white",
            "ticks": ""
           }
          },
          "title": {
           "x": 0.05
          },
          "xaxis": {
           "automargin": true,
           "gridcolor": "white",
           "linecolor": "white",
           "ticks": "",
           "title": {
            "standoff": 15
           },
           "zerolinecolor": "white",
           "zerolinewidth": 2
          },
          "yaxis": {
           "automargin": true,
           "gridcolor": "white",
           "linecolor": "white",
           "ticks": "",
           "title": {
            "standoff": 15
           },
           "zerolinecolor": "white",
           "zerolinewidth": 2
          }
         }
        },
        "title": {
         "text": "MEDIA VOLUME"
        },
        "xaxis": {
         "anchor": "y",
         "domain": [
          0,
          1
         ],
         "title": {
          "text": "datetime"
         }
        },
        "yaxis": {
         "anchor": "x",
         "domain": [
          0,
          1
         ],
         "title": {
          "text": "Volume Intensity"
         }
        }
       }
      }
     },
     "metadata": {},
     "output_type": "display_data"
    }
   ],
   "source": [
    "timeline_fig = px.line(df_timeline, x=\"datetime\", y=\"Volume Intensity\", title= \"MEDIA VOLUME\")\n",
    "timeline_fig.show()"
   ]
  },
  {
   "cell_type": "code",
   "execution_count": 21,
   "metadata": {},
   "outputs": [
    {
     "data": {
      "application/vnd.plotly.v1+json": {
       "config": {
        "plotlyServerURL": "https://plot.ly"
       },
       "data": [
        {
         "hovertemplate": "datetime=%{x}<br>Average Tone=%{y}<extra></extra>",
         "legendgroup": "",
         "line": {
          "color": "#636efa",
          "dash": "solid"
         },
         "marker": {
          "symbol": "circle"
         },
         "mode": "lines",
         "name": "",
         "orientation": "v",
         "showlegend": false,
         "type": "scatter",
         "x": [
          "2020-05-10T00:00:00+00:00",
          "2020-05-10T00:15:00+00:00",
          "2020-05-10T00:30:00+00:00",
          "2020-05-10T00:45:00+00:00",
          "2020-05-10T01:00:00+00:00",
          "2020-05-10T01:15:00+00:00",
          "2020-05-10T01:30:00+00:00",
          "2020-05-10T01:45:00+00:00",
          "2020-05-10T02:00:00+00:00",
          "2020-05-10T02:15:00+00:00",
          "2020-05-10T02:30:00+00:00",
          "2020-05-10T02:45:00+00:00",
          "2020-05-10T03:00:00+00:00",
          "2020-05-10T03:15:00+00:00",
          "2020-05-10T03:30:00+00:00",
          "2020-05-10T03:45:00+00:00",
          "2020-05-10T04:00:00+00:00",
          "2020-05-10T04:15:00+00:00",
          "2020-05-10T04:30:00+00:00",
          "2020-05-10T04:45:00+00:00",
          "2020-05-10T05:00:00+00:00",
          "2020-05-10T05:15:00+00:00",
          "2020-05-10T05:30:00+00:00",
          "2020-05-10T05:45:00+00:00",
          "2020-05-10T06:00:00+00:00",
          "2020-05-10T06:15:00+00:00",
          "2020-05-10T06:30:00+00:00",
          "2020-05-10T06:45:00+00:00",
          "2020-05-10T07:00:00+00:00",
          "2020-05-10T07:15:00+00:00",
          "2020-05-10T07:30:00+00:00",
          "2020-05-10T07:45:00+00:00",
          "2020-05-10T08:00:00+00:00",
          "2020-05-10T08:15:00+00:00",
          "2020-05-10T08:30:00+00:00",
          "2020-05-10T08:45:00+00:00",
          "2020-05-10T09:00:00+00:00",
          "2020-05-10T09:15:00+00:00",
          "2020-05-10T09:30:00+00:00",
          "2020-05-10T09:45:00+00:00",
          "2020-05-10T10:00:00+00:00",
          "2020-05-10T10:15:00+00:00",
          "2020-05-10T10:30:00+00:00",
          "2020-05-10T10:45:00+00:00",
          "2020-05-10T11:00:00+00:00",
          "2020-05-10T11:15:00+00:00",
          "2020-05-10T11:30:00+00:00",
          "2020-05-10T11:45:00+00:00",
          "2020-05-10T12:00:00+00:00",
          "2020-05-10T12:15:00+00:00",
          "2020-05-10T12:30:00+00:00",
          "2020-05-10T12:45:00+00:00",
          "2020-05-10T13:00:00+00:00",
          "2020-05-10T13:15:00+00:00",
          "2020-05-10T13:30:00+00:00",
          "2020-05-10T13:45:00+00:00",
          "2020-05-10T14:00:00+00:00",
          "2020-05-10T14:15:00+00:00",
          "2020-05-10T14:30:00+00:00",
          "2020-05-10T14:45:00+00:00",
          "2020-05-10T15:00:00+00:00",
          "2020-05-10T15:15:00+00:00",
          "2020-05-10T15:30:00+00:00",
          "2020-05-10T15:45:00+00:00",
          "2020-05-10T16:00:00+00:00",
          "2020-05-10T16:15:00+00:00",
          "2020-05-10T16:30:00+00:00",
          "2020-05-10T16:45:00+00:00",
          "2020-05-10T17:00:00+00:00",
          "2020-05-10T17:15:00+00:00",
          "2020-05-10T17:30:00+00:00",
          "2020-05-10T17:45:00+00:00",
          "2020-05-10T18:00:00+00:00",
          "2020-05-10T18:15:00+00:00",
          "2020-05-10T18:30:00+00:00",
          "2020-05-10T18:45:00+00:00",
          "2020-05-10T19:00:00+00:00",
          "2020-05-10T19:15:00+00:00",
          "2020-05-10T19:30:00+00:00",
          "2020-05-10T19:45:00+00:00",
          "2020-05-10T20:00:00+00:00",
          "2020-05-10T20:15:00+00:00",
          "2020-05-10T20:30:00+00:00",
          "2020-05-10T20:45:00+00:00",
          "2020-05-10T21:00:00+00:00",
          "2020-05-10T21:15:00+00:00",
          "2020-05-10T21:30:00+00:00",
          "2020-05-10T21:45:00+00:00",
          "2020-05-10T22:00:00+00:00",
          "2020-05-10T22:15:00+00:00",
          "2020-05-10T22:30:00+00:00",
          "2020-05-10T22:45:00+00:00",
          "2020-05-10T23:00:00+00:00",
          "2020-05-10T23:15:00+00:00",
          "2020-05-10T23:30:00+00:00",
          "2020-05-10T23:45:00+00:00",
          "2020-05-11T00:00:00+00:00"
         ],
         "xaxis": "x",
         "y": [
          -3.2793,
          -1.6852,
          0.3103,
          -0.898,
          -1.8854,
          -1.0901,
          -1.1596,
          -0.3647,
          -2.1156,
          -1.0448,
          -1.9639,
          -2.5069,
          -2.4112,
          -3.5159,
          -1.5492,
          -1.958,
          -2.8851,
          -2.157,
          -1.0232,
          -2.4674,
          -2.0243,
          -2.5578,
          -1.3371,
          -0.798,
          -1.7736,
          -2.0189,
          -1.4457,
          -2.5119,
          -1.2881,
          -1.7434,
          -1.2405,
          -2.0348,
          -2.0725,
          -2.4682,
          -2.1822,
          -2.3468,
          -2.3817,
          -3.6501,
          -3.1206,
          -3.4819,
          -1.605,
          -2.1788,
          -2.2085,
          -2.0286,
          -2.5645,
          -2.0105,
          -1.0909,
          -2.2662,
          -1.4968,
          -1.8884,
          -1.9077,
          -0.7264,
          -0.2958,
          -0.0653,
          -1.3624,
          -0.5822,
          -1.3763,
          -1.1136,
          -1.3515,
          -2.9281,
          -1.9768,
          -1.9036,
          -1.8347,
          -0.6945,
          -0.5579,
          -1.3787,
          -1.0864,
          -2.6432,
          -1.9913,
          -1.309,
          -1.4443,
          -1.4247,
          -2.4421,
          -1.8673,
          -1.1487,
          -2.2856,
          -2.5536,
          -2.2498,
          -1.9542,
          -2.1812,
          -2.757,
          -2.9413,
          -1.4006,
          -2.4104,
          -4.161,
          -2.7507,
          -1.9216,
          -1.6798,
          -1.6547,
          -2.1702,
          -3.7685,
          -1.7482,
          -1.8009,
          -1.0261,
          -1.201,
          -1.7848,
          0.3741
         ],
         "yaxis": "y"
        }
       ],
       "layout": {
        "legend": {
         "tracegroupgap": 0
        },
        "template": {
         "data": {
          "bar": [
           {
            "error_x": {
             "color": "#2a3f5f"
            },
            "error_y": {
             "color": "#2a3f5f"
            },
            "marker": {
             "line": {
              "color": "#E5ECF6",
              "width": 0.5
             },
             "pattern": {
              "fillmode": "overlay",
              "size": 10,
              "solidity": 0.2
             }
            },
            "type": "bar"
           }
          ],
          "barpolar": [
           {
            "marker": {
             "line": {
              "color": "#E5ECF6",
              "width": 0.5
             },
             "pattern": {
              "fillmode": "overlay",
              "size": 10,
              "solidity": 0.2
             }
            },
            "type": "barpolar"
           }
          ],
          "carpet": [
           {
            "aaxis": {
             "endlinecolor": "#2a3f5f",
             "gridcolor": "white",
             "linecolor": "white",
             "minorgridcolor": "white",
             "startlinecolor": "#2a3f5f"
            },
            "baxis": {
             "endlinecolor": "#2a3f5f",
             "gridcolor": "white",
             "linecolor": "white",
             "minorgridcolor": "white",
             "startlinecolor": "#2a3f5f"
            },
            "type": "carpet"
           }
          ],
          "choropleth": [
           {
            "colorbar": {
             "outlinewidth": 0,
             "ticks": ""
            },
            "type": "choropleth"
           }
          ],
          "contour": [
           {
            "colorbar": {
             "outlinewidth": 0,
             "ticks": ""
            },
            "colorscale": [
             [
              0,
              "#0d0887"
             ],
             [
              0.1111111111111111,
              "#46039f"
             ],
             [
              0.2222222222222222,
              "#7201a8"
             ],
             [
              0.3333333333333333,
              "#9c179e"
             ],
             [
              0.4444444444444444,
              "#bd3786"
             ],
             [
              0.5555555555555556,
              "#d8576b"
             ],
             [
              0.6666666666666666,
              "#ed7953"
             ],
             [
              0.7777777777777778,
              "#fb9f3a"
             ],
             [
              0.8888888888888888,
              "#fdca26"
             ],
             [
              1,
              "#f0f921"
             ]
            ],
            "type": "contour"
           }
          ],
          "contourcarpet": [
           {
            "colorbar": {
             "outlinewidth": 0,
             "ticks": ""
            },
            "type": "contourcarpet"
           }
          ],
          "heatmap": [
           {
            "colorbar": {
             "outlinewidth": 0,
             "ticks": ""
            },
            "colorscale": [
             [
              0,
              "#0d0887"
             ],
             [
              0.1111111111111111,
              "#46039f"
             ],
             [
              0.2222222222222222,
              "#7201a8"
             ],
             [
              0.3333333333333333,
              "#9c179e"
             ],
             [
              0.4444444444444444,
              "#bd3786"
             ],
             [
              0.5555555555555556,
              "#d8576b"
             ],
             [
              0.6666666666666666,
              "#ed7953"
             ],
             [
              0.7777777777777778,
              "#fb9f3a"
             ],
             [
              0.8888888888888888,
              "#fdca26"
             ],
             [
              1,
              "#f0f921"
             ]
            ],
            "type": "heatmap"
           }
          ],
          "heatmapgl": [
           {
            "colorbar": {
             "outlinewidth": 0,
             "ticks": ""
            },
            "colorscale": [
             [
              0,
              "#0d0887"
             ],
             [
              0.1111111111111111,
              "#46039f"
             ],
             [
              0.2222222222222222,
              "#7201a8"
             ],
             [
              0.3333333333333333,
              "#9c179e"
             ],
             [
              0.4444444444444444,
              "#bd3786"
             ],
             [
              0.5555555555555556,
              "#d8576b"
             ],
             [
              0.6666666666666666,
              "#ed7953"
             ],
             [
              0.7777777777777778,
              "#fb9f3a"
             ],
             [
              0.8888888888888888,
              "#fdca26"
             ],
             [
              1,
              "#f0f921"
             ]
            ],
            "type": "heatmapgl"
           }
          ],
          "histogram": [
           {
            "marker": {
             "pattern": {
              "fillmode": "overlay",
              "size": 10,
              "solidity": 0.2
             }
            },
            "type": "histogram"
           }
          ],
          "histogram2d": [
           {
            "colorbar": {
             "outlinewidth": 0,
             "ticks": ""
            },
            "colorscale": [
             [
              0,
              "#0d0887"
             ],
             [
              0.1111111111111111,
              "#46039f"
             ],
             [
              0.2222222222222222,
              "#7201a8"
             ],
             [
              0.3333333333333333,
              "#9c179e"
             ],
             [
              0.4444444444444444,
              "#bd3786"
             ],
             [
              0.5555555555555556,
              "#d8576b"
             ],
             [
              0.6666666666666666,
              "#ed7953"
             ],
             [
              0.7777777777777778,
              "#fb9f3a"
             ],
             [
              0.8888888888888888,
              "#fdca26"
             ],
             [
              1,
              "#f0f921"
             ]
            ],
            "type": "histogram2d"
           }
          ],
          "histogram2dcontour": [
           {
            "colorbar": {
             "outlinewidth": 0,
             "ticks": ""
            },
            "colorscale": [
             [
              0,
              "#0d0887"
             ],
             [
              0.1111111111111111,
              "#46039f"
             ],
             [
              0.2222222222222222,
              "#7201a8"
             ],
             [
              0.3333333333333333,
              "#9c179e"
             ],
             [
              0.4444444444444444,
              "#bd3786"
             ],
             [
              0.5555555555555556,
              "#d8576b"
             ],
             [
              0.6666666666666666,
              "#ed7953"
             ],
             [
              0.7777777777777778,
              "#fb9f3a"
             ],
             [
              0.8888888888888888,
              "#fdca26"
             ],
             [
              1,
              "#f0f921"
             ]
            ],
            "type": "histogram2dcontour"
           }
          ],
          "mesh3d": [
           {
            "colorbar": {
             "outlinewidth": 0,
             "ticks": ""
            },
            "type": "mesh3d"
           }
          ],
          "parcoords": [
           {
            "line": {
             "colorbar": {
              "outlinewidth": 0,
              "ticks": ""
             }
            },
            "type": "parcoords"
           }
          ],
          "pie": [
           {
            "automargin": true,
            "type": "pie"
           }
          ],
          "scatter": [
           {
            "fillpattern": {
             "fillmode": "overlay",
             "size": 10,
             "solidity": 0.2
            },
            "type": "scatter"
           }
          ],
          "scatter3d": [
           {
            "line": {
             "colorbar": {
              "outlinewidth": 0,
              "ticks": ""
             }
            },
            "marker": {
             "colorbar": {
              "outlinewidth": 0,
              "ticks": ""
             }
            },
            "type": "scatter3d"
           }
          ],
          "scattercarpet": [
           {
            "marker": {
             "colorbar": {
              "outlinewidth": 0,
              "ticks": ""
             }
            },
            "type": "scattercarpet"
           }
          ],
          "scattergeo": [
           {
            "marker": {
             "colorbar": {
              "outlinewidth": 0,
              "ticks": ""
             }
            },
            "type": "scattergeo"
           }
          ],
          "scattergl": [
           {
            "marker": {
             "colorbar": {
              "outlinewidth": 0,
              "ticks": ""
             }
            },
            "type": "scattergl"
           }
          ],
          "scattermapbox": [
           {
            "marker": {
             "colorbar": {
              "outlinewidth": 0,
              "ticks": ""
             }
            },
            "type": "scattermapbox"
           }
          ],
          "scatterpolar": [
           {
            "marker": {
             "colorbar": {
              "outlinewidth": 0,
              "ticks": ""
             }
            },
            "type": "scatterpolar"
           }
          ],
          "scatterpolargl": [
           {
            "marker": {
             "colorbar": {
              "outlinewidth": 0,
              "ticks": ""
             }
            },
            "type": "scatterpolargl"
           }
          ],
          "scatterternary": [
           {
            "marker": {
             "colorbar": {
              "outlinewidth": 0,
              "ticks": ""
             }
            },
            "type": "scatterternary"
           }
          ],
          "surface": [
           {
            "colorbar": {
             "outlinewidth": 0,
             "ticks": ""
            },
            "colorscale": [
             [
              0,
              "#0d0887"
             ],
             [
              0.1111111111111111,
              "#46039f"
             ],
             [
              0.2222222222222222,
              "#7201a8"
             ],
             [
              0.3333333333333333,
              "#9c179e"
             ],
             [
              0.4444444444444444,
              "#bd3786"
             ],
             [
              0.5555555555555556,
              "#d8576b"
             ],
             [
              0.6666666666666666,
              "#ed7953"
             ],
             [
              0.7777777777777778,
              "#fb9f3a"
             ],
             [
              0.8888888888888888,
              "#fdca26"
             ],
             [
              1,
              "#f0f921"
             ]
            ],
            "type": "surface"
           }
          ],
          "table": [
           {
            "cells": {
             "fill": {
              "color": "#EBF0F8"
             },
             "line": {
              "color": "white"
             }
            },
            "header": {
             "fill": {
              "color": "#C8D4E3"
             },
             "line": {
              "color": "white"
             }
            },
            "type": "table"
           }
          ]
         },
         "layout": {
          "annotationdefaults": {
           "arrowcolor": "#2a3f5f",
           "arrowhead": 0,
           "arrowwidth": 1
          },
          "autotypenumbers": "strict",
          "coloraxis": {
           "colorbar": {
            "outlinewidth": 0,
            "ticks": ""
           }
          },
          "colorscale": {
           "diverging": [
            [
             0,
             "#8e0152"
            ],
            [
             0.1,
             "#c51b7d"
            ],
            [
             0.2,
             "#de77ae"
            ],
            [
             0.3,
             "#f1b6da"
            ],
            [
             0.4,
             "#fde0ef"
            ],
            [
             0.5,
             "#f7f7f7"
            ],
            [
             0.6,
             "#e6f5d0"
            ],
            [
             0.7,
             "#b8e186"
            ],
            [
             0.8,
             "#7fbc41"
            ],
            [
             0.9,
             "#4d9221"
            ],
            [
             1,
             "#276419"
            ]
           ],
           "sequential": [
            [
             0,
             "#0d0887"
            ],
            [
             0.1111111111111111,
             "#46039f"
            ],
            [
             0.2222222222222222,
             "#7201a8"
            ],
            [
             0.3333333333333333,
             "#9c179e"
            ],
            [
             0.4444444444444444,
             "#bd3786"
            ],
            [
             0.5555555555555556,
             "#d8576b"
            ],
            [
             0.6666666666666666,
             "#ed7953"
            ],
            [
             0.7777777777777778,
             "#fb9f3a"
            ],
            [
             0.8888888888888888,
             "#fdca26"
            ],
            [
             1,
             "#f0f921"
            ]
           ],
           "sequentialminus": [
            [
             0,
             "#0d0887"
            ],
            [
             0.1111111111111111,
             "#46039f"
            ],
            [
             0.2222222222222222,
             "#7201a8"
            ],
            [
             0.3333333333333333,
             "#9c179e"
            ],
            [
             0.4444444444444444,
             "#bd3786"
            ],
            [
             0.5555555555555556,
             "#d8576b"
            ],
            [
             0.6666666666666666,
             "#ed7953"
            ],
            [
             0.7777777777777778,
             "#fb9f3a"
            ],
            [
             0.8888888888888888,
             "#fdca26"
            ],
            [
             1,
             "#f0f921"
            ]
           ]
          },
          "colorway": [
           "#636efa",
           "#EF553B",
           "#00cc96",
           "#ab63fa",
           "#FFA15A",
           "#19d3f3",
           "#FF6692",
           "#B6E880",
           "#FF97FF",
           "#FECB52"
          ],
          "font": {
           "color": "#2a3f5f"
          },
          "geo": {
           "bgcolor": "white",
           "lakecolor": "white",
           "landcolor": "#E5ECF6",
           "showlakes": true,
           "showland": true,
           "subunitcolor": "white"
          },
          "hoverlabel": {
           "align": "left"
          },
          "hovermode": "closest",
          "mapbox": {
           "style": "light"
          },
          "paper_bgcolor": "white",
          "plot_bgcolor": "#E5ECF6",
          "polar": {
           "angularaxis": {
            "gridcolor": "white",
            "linecolor": "white",
            "ticks": ""
           },
           "bgcolor": "#E5ECF6",
           "radialaxis": {
            "gridcolor": "white",
            "linecolor": "white",
            "ticks": ""
           }
          },
          "scene": {
           "xaxis": {
            "backgroundcolor": "#E5ECF6",
            "gridcolor": "white",
            "gridwidth": 2,
            "linecolor": "white",
            "showbackground": true,
            "ticks": "",
            "zerolinecolor": "white"
           },
           "yaxis": {
            "backgroundcolor": "#E5ECF6",
            "gridcolor": "white",
            "gridwidth": 2,
            "linecolor": "white",
            "showbackground": true,
            "ticks": "",
            "zerolinecolor": "white"
           },
           "zaxis": {
            "backgroundcolor": "#E5ECF6",
            "gridcolor": "white",
            "gridwidth": 2,
            "linecolor": "white",
            "showbackground": true,
            "ticks": "",
            "zerolinecolor": "white"
           }
          },
          "shapedefaults": {
           "line": {
            "color": "#2a3f5f"
           }
          },
          "ternary": {
           "aaxis": {
            "gridcolor": "white",
            "linecolor": "white",
            "ticks": ""
           },
           "baxis": {
            "gridcolor": "white",
            "linecolor": "white",
            "ticks": ""
           },
           "bgcolor": "#E5ECF6",
           "caxis": {
            "gridcolor": "white",
            "linecolor": "white",
            "ticks": ""
           }
          },
          "title": {
           "x": 0.05
          },
          "xaxis": {
           "automargin": true,
           "gridcolor": "white",
           "linecolor": "white",
           "ticks": "",
           "title": {
            "standoff": 15
           },
           "zerolinecolor": "white",
           "zerolinewidth": 2
          },
          "yaxis": {
           "automargin": true,
           "gridcolor": "white",
           "linecolor": "white",
           "ticks": "",
           "title": {
            "standoff": 15
           },
           "zerolinecolor": "white",
           "zerolinewidth": 2
          }
         }
        },
        "title": {
         "text": "MEDIA SENTIMENT"
        },
        "xaxis": {
         "anchor": "y",
         "domain": [
          0,
          1
         ],
         "title": {
          "text": "datetime"
         }
        },
        "yaxis": {
         "anchor": "x",
         "domain": [
          0,
          1
         ],
         "title": {
          "text": "Average Tone"
         }
        }
       }
      }
     },
     "metadata": {},
     "output_type": "display_data"
    }
   ],
   "source": [
    "\n",
    "#sns.lineplot(x=timeline_tone['Average Tone'], y=timeline_tone.datetime, data=df)\n",
    "## PLOTTING TIMELINE TONE to REPLICATE THE GRAPH IN GDELT\n",
    "timeline_tone_fig = px.line(df_timeline_tone, x=\"datetime\", y=\"Average Tone\", title= \"MEDIA SENTIMENT\")\n",
    "timeline_tone_fig.show()\n"
   ]
  },
  {
   "cell_type": "code",
   "execution_count": 33,
   "metadata": {},
   "outputs": [
    {
     "data": {
      "text/html": [
       "<div>\n",
       "<style scoped>\n",
       "    .dataframe tbody tr th:only-of-type {\n",
       "        vertical-align: middle;\n",
       "    }\n",
       "\n",
       "    .dataframe tbody tr th {\n",
       "        vertical-align: top;\n",
       "    }\n",
       "\n",
       "    .dataframe thead th {\n",
       "        text-align: right;\n",
       "    }\n",
       "</style>\n",
       "<table border=\"1\" class=\"dataframe\">\n",
       "  <thead>\n",
       "    <tr style=\"text-align: right;\">\n",
       "      <th></th>\n",
       "      <th>datetime</th>\n",
       "      <th>Average Tone</th>\n",
       "    </tr>\n",
       "  </thead>\n",
       "  <tbody>\n",
       "    <tr>\n",
       "      <th>0</th>\n",
       "      <td>2020-05-10 00:00:00+00:00</td>\n",
       "      <td>-3.2793</td>\n",
       "    </tr>\n",
       "    <tr>\n",
       "      <th>1</th>\n",
       "      <td>2020-05-10 00:15:00+00:00</td>\n",
       "      <td>-1.6852</td>\n",
       "    </tr>\n",
       "    <tr>\n",
       "      <th>2</th>\n",
       "      <td>2020-05-10 00:30:00+00:00</td>\n",
       "      <td>0.3103</td>\n",
       "    </tr>\n",
       "    <tr>\n",
       "      <th>3</th>\n",
       "      <td>2020-05-10 00:45:00+00:00</td>\n",
       "      <td>-0.8980</td>\n",
       "    </tr>\n",
       "    <tr>\n",
       "      <th>4</th>\n",
       "      <td>2020-05-10 01:00:00+00:00</td>\n",
       "      <td>-1.8854</td>\n",
       "    </tr>\n",
       "  </tbody>\n",
       "</table>\n",
       "</div>"
      ],
      "text/plain": [
       "                   datetime  Average Tone\n",
       "0 2020-05-10 00:00:00+00:00       -3.2793\n",
       "1 2020-05-10 00:15:00+00:00       -1.6852\n",
       "2 2020-05-10 00:30:00+00:00        0.3103\n",
       "3 2020-05-10 00:45:00+00:00       -0.8980\n",
       "4 2020-05-10 01:00:00+00:00       -1.8854"
      ]
     },
     "execution_count": 33,
     "metadata": {},
     "output_type": "execute_result"
    }
   ],
   "source": [
    "df_timeline_tone.head()"
   ]
  },
  {
   "cell_type": "code",
   "execution_count": 32,
   "metadata": {},
   "outputs": [
    {
     "data": {
      "application/vnd.plotly.v1+json": {
       "config": {
        "plotlyServerURL": "https://plot.ly"
       },
       "data": [
        {
         "alignmentgroup": "True",
         "bingroup": "x",
         "hovertemplate": "variable=Average Tone<br>value=%{x}<br>count=%{y}<extra></extra>",
         "legendgroup": "Average Tone",
         "marker": {
          "color": "#636efa",
          "pattern": {
           "shape": ""
          }
         },
         "name": "Average Tone",
         "offsetgroup": "Average Tone",
         "orientation": "v",
         "showlegend": true,
         "type": "histogram",
         "x": [
          -3.2793,
          -1.6852,
          0.3103,
          -0.898,
          -1.8854,
          -1.0901,
          -1.1596,
          -0.3647,
          -2.1156,
          -1.0448,
          -1.9639,
          -2.5069,
          -2.4112,
          -3.5159,
          -1.5492,
          -1.958,
          -2.8851,
          -2.157,
          -1.0232,
          -2.4674,
          -2.0243,
          -2.5578,
          -1.3371,
          -0.798,
          -1.7736,
          -2.0189,
          -1.4457,
          -2.5119,
          -1.2881,
          -1.7434,
          -1.2405,
          -2.0348,
          -2.0725,
          -2.4682,
          -2.1822,
          -2.3468,
          -2.3817,
          -3.6501,
          -3.1206,
          -3.4819,
          -1.605,
          -2.1788,
          -2.2085,
          -2.0286,
          -2.5645,
          -2.0105,
          -1.0909,
          -2.2662,
          -1.4968,
          -1.8884,
          -1.9077,
          -0.7264,
          -0.2958,
          -0.0653,
          -1.3624,
          -0.5822,
          -1.3763,
          -1.1136,
          -1.3515,
          -2.9281,
          -1.9768,
          -1.9036,
          -1.8347,
          -0.6945,
          -0.5579,
          -1.3787,
          -1.0864,
          -2.6432,
          -1.9913,
          -1.309,
          -1.4443,
          -1.4247,
          -2.4421,
          -1.8673,
          -1.1487,
          -2.2856,
          -2.5536,
          -2.2498,
          -1.9542,
          -2.1812,
          -2.757,
          -2.9413,
          -1.4006,
          -2.4104,
          -4.161,
          -2.7507,
          -1.9216,
          -1.6798,
          -1.6547,
          -2.1702,
          -3.7685,
          -1.7482,
          -1.8009,
          -1.0261,
          -1.201,
          -1.7848,
          0.3741
         ],
         "xaxis": "x",
         "yaxis": "y"
        }
       ],
       "layout": {
        "barmode": "relative",
        "legend": {
         "title": {
          "text": "variable"
         },
         "tracegroupgap": 0
        },
        "template": {
         "data": {
          "bar": [
           {
            "error_x": {
             "color": "#2a3f5f"
            },
            "error_y": {
             "color": "#2a3f5f"
            },
            "marker": {
             "line": {
              "color": "#E5ECF6",
              "width": 0.5
             },
             "pattern": {
              "fillmode": "overlay",
              "size": 10,
              "solidity": 0.2
             }
            },
            "type": "bar"
           }
          ],
          "barpolar": [
           {
            "marker": {
             "line": {
              "color": "#E5ECF6",
              "width": 0.5
             },
             "pattern": {
              "fillmode": "overlay",
              "size": 10,
              "solidity": 0.2
             }
            },
            "type": "barpolar"
           }
          ],
          "carpet": [
           {
            "aaxis": {
             "endlinecolor": "#2a3f5f",
             "gridcolor": "white",
             "linecolor": "white",
             "minorgridcolor": "white",
             "startlinecolor": "#2a3f5f"
            },
            "baxis": {
             "endlinecolor": "#2a3f5f",
             "gridcolor": "white",
             "linecolor": "white",
             "minorgridcolor": "white",
             "startlinecolor": "#2a3f5f"
            },
            "type": "carpet"
           }
          ],
          "choropleth": [
           {
            "colorbar": {
             "outlinewidth": 0,
             "ticks": ""
            },
            "type": "choropleth"
           }
          ],
          "contour": [
           {
            "colorbar": {
             "outlinewidth": 0,
             "ticks": ""
            },
            "colorscale": [
             [
              0,
              "#0d0887"
             ],
             [
              0.1111111111111111,
              "#46039f"
             ],
             [
              0.2222222222222222,
              "#7201a8"
             ],
             [
              0.3333333333333333,
              "#9c179e"
             ],
             [
              0.4444444444444444,
              "#bd3786"
             ],
             [
              0.5555555555555556,
              "#d8576b"
             ],
             [
              0.6666666666666666,
              "#ed7953"
             ],
             [
              0.7777777777777778,
              "#fb9f3a"
             ],
             [
              0.8888888888888888,
              "#fdca26"
             ],
             [
              1,
              "#f0f921"
             ]
            ],
            "type": "contour"
           }
          ],
          "contourcarpet": [
           {
            "colorbar": {
             "outlinewidth": 0,
             "ticks": ""
            },
            "type": "contourcarpet"
           }
          ],
          "heatmap": [
           {
            "colorbar": {
             "outlinewidth": 0,
             "ticks": ""
            },
            "colorscale": [
             [
              0,
              "#0d0887"
             ],
             [
              0.1111111111111111,
              "#46039f"
             ],
             [
              0.2222222222222222,
              "#7201a8"
             ],
             [
              0.3333333333333333,
              "#9c179e"
             ],
             [
              0.4444444444444444,
              "#bd3786"
             ],
             [
              0.5555555555555556,
              "#d8576b"
             ],
             [
              0.6666666666666666,
              "#ed7953"
             ],
             [
              0.7777777777777778,
              "#fb9f3a"
             ],
             [
              0.8888888888888888,
              "#fdca26"
             ],
             [
              1,
              "#f0f921"
             ]
            ],
            "type": "heatmap"
           }
          ],
          "heatmapgl": [
           {
            "colorbar": {
             "outlinewidth": 0,
             "ticks": ""
            },
            "colorscale": [
             [
              0,
              "#0d0887"
             ],
             [
              0.1111111111111111,
              "#46039f"
             ],
             [
              0.2222222222222222,
              "#7201a8"
             ],
             [
              0.3333333333333333,
              "#9c179e"
             ],
             [
              0.4444444444444444,
              "#bd3786"
             ],
             [
              0.5555555555555556,
              "#d8576b"
             ],
             [
              0.6666666666666666,
              "#ed7953"
             ],
             [
              0.7777777777777778,
              "#fb9f3a"
             ],
             [
              0.8888888888888888,
              "#fdca26"
             ],
             [
              1,
              "#f0f921"
             ]
            ],
            "type": "heatmapgl"
           }
          ],
          "histogram": [
           {
            "marker": {
             "pattern": {
              "fillmode": "overlay",
              "size": 10,
              "solidity": 0.2
             }
            },
            "type": "histogram"
           }
          ],
          "histogram2d": [
           {
            "colorbar": {
             "outlinewidth": 0,
             "ticks": ""
            },
            "colorscale": [
             [
              0,
              "#0d0887"
             ],
             [
              0.1111111111111111,
              "#46039f"
             ],
             [
              0.2222222222222222,
              "#7201a8"
             ],
             [
              0.3333333333333333,
              "#9c179e"
             ],
             [
              0.4444444444444444,
              "#bd3786"
             ],
             [
              0.5555555555555556,
              "#d8576b"
             ],
             [
              0.6666666666666666,
              "#ed7953"
             ],
             [
              0.7777777777777778,
              "#fb9f3a"
             ],
             [
              0.8888888888888888,
              "#fdca26"
             ],
             [
              1,
              "#f0f921"
             ]
            ],
            "type": "histogram2d"
           }
          ],
          "histogram2dcontour": [
           {
            "colorbar": {
             "outlinewidth": 0,
             "ticks": ""
            },
            "colorscale": [
             [
              0,
              "#0d0887"
             ],
             [
              0.1111111111111111,
              "#46039f"
             ],
             [
              0.2222222222222222,
              "#7201a8"
             ],
             [
              0.3333333333333333,
              "#9c179e"
             ],
             [
              0.4444444444444444,
              "#bd3786"
             ],
             [
              0.5555555555555556,
              "#d8576b"
             ],
             [
              0.6666666666666666,
              "#ed7953"
             ],
             [
              0.7777777777777778,
              "#fb9f3a"
             ],
             [
              0.8888888888888888,
              "#fdca26"
             ],
             [
              1,
              "#f0f921"
             ]
            ],
            "type": "histogram2dcontour"
           }
          ],
          "mesh3d": [
           {
            "colorbar": {
             "outlinewidth": 0,
             "ticks": ""
            },
            "type": "mesh3d"
           }
          ],
          "parcoords": [
           {
            "line": {
             "colorbar": {
              "outlinewidth": 0,
              "ticks": ""
             }
            },
            "type": "parcoords"
           }
          ],
          "pie": [
           {
            "automargin": true,
            "type": "pie"
           }
          ],
          "scatter": [
           {
            "fillpattern": {
             "fillmode": "overlay",
             "size": 10,
             "solidity": 0.2
            },
            "type": "scatter"
           }
          ],
          "scatter3d": [
           {
            "line": {
             "colorbar": {
              "outlinewidth": 0,
              "ticks": ""
             }
            },
            "marker": {
             "colorbar": {
              "outlinewidth": 0,
              "ticks": ""
             }
            },
            "type": "scatter3d"
           }
          ],
          "scattercarpet": [
           {
            "marker": {
             "colorbar": {
              "outlinewidth": 0,
              "ticks": ""
             }
            },
            "type": "scattercarpet"
           }
          ],
          "scattergeo": [
           {
            "marker": {
             "colorbar": {
              "outlinewidth": 0,
              "ticks": ""
             }
            },
            "type": "scattergeo"
           }
          ],
          "scattergl": [
           {
            "marker": {
             "colorbar": {
              "outlinewidth": 0,
              "ticks": ""
             }
            },
            "type": "scattergl"
           }
          ],
          "scattermapbox": [
           {
            "marker": {
             "colorbar": {
              "outlinewidth": 0,
              "ticks": ""
             }
            },
            "type": "scattermapbox"
           }
          ],
          "scatterpolar": [
           {
            "marker": {
             "colorbar": {
              "outlinewidth": 0,
              "ticks": ""
             }
            },
            "type": "scatterpolar"
           }
          ],
          "scatterpolargl": [
           {
            "marker": {
             "colorbar": {
              "outlinewidth": 0,
              "ticks": ""
             }
            },
            "type": "scatterpolargl"
           }
          ],
          "scatterternary": [
           {
            "marker": {
             "colorbar": {
              "outlinewidth": 0,
              "ticks": ""
             }
            },
            "type": "scatterternary"
           }
          ],
          "surface": [
           {
            "colorbar": {
             "outlinewidth": 0,
             "ticks": ""
            },
            "colorscale": [
             [
              0,
              "#0d0887"
             ],
             [
              0.1111111111111111,
              "#46039f"
             ],
             [
              0.2222222222222222,
              "#7201a8"
             ],
             [
              0.3333333333333333,
              "#9c179e"
             ],
             [
              0.4444444444444444,
              "#bd3786"
             ],
             [
              0.5555555555555556,
              "#d8576b"
             ],
             [
              0.6666666666666666,
              "#ed7953"
             ],
             [
              0.7777777777777778,
              "#fb9f3a"
             ],
             [
              0.8888888888888888,
              "#fdca26"
             ],
             [
              1,
              "#f0f921"
             ]
            ],
            "type": "surface"
           }
          ],
          "table": [
           {
            "cells": {
             "fill": {
              "color": "#EBF0F8"
             },
             "line": {
              "color": "white"
             }
            },
            "header": {
             "fill": {
              "color": "#C8D4E3"
             },
             "line": {
              "color": "white"
             }
            },
            "type": "table"
           }
          ]
         },
         "layout": {
          "annotationdefaults": {
           "arrowcolor": "#2a3f5f",
           "arrowhead": 0,
           "arrowwidth": 1
          },
          "autotypenumbers": "strict",
          "coloraxis": {
           "colorbar": {
            "outlinewidth": 0,
            "ticks": ""
           }
          },
          "colorscale": {
           "diverging": [
            [
             0,
             "#8e0152"
            ],
            [
             0.1,
             "#c51b7d"
            ],
            [
             0.2,
             "#de77ae"
            ],
            [
             0.3,
             "#f1b6da"
            ],
            [
             0.4,
             "#fde0ef"
            ],
            [
             0.5,
             "#f7f7f7"
            ],
            [
             0.6,
             "#e6f5d0"
            ],
            [
             0.7,
             "#b8e186"
            ],
            [
             0.8,
             "#7fbc41"
            ],
            [
             0.9,
             "#4d9221"
            ],
            [
             1,
             "#276419"
            ]
           ],
           "sequential": [
            [
             0,
             "#0d0887"
            ],
            [
             0.1111111111111111,
             "#46039f"
            ],
            [
             0.2222222222222222,
             "#7201a8"
            ],
            [
             0.3333333333333333,
             "#9c179e"
            ],
            [
             0.4444444444444444,
             "#bd3786"
            ],
            [
             0.5555555555555556,
             "#d8576b"
            ],
            [
             0.6666666666666666,
             "#ed7953"
            ],
            [
             0.7777777777777778,
             "#fb9f3a"
            ],
            [
             0.8888888888888888,
             "#fdca26"
            ],
            [
             1,
             "#f0f921"
            ]
           ],
           "sequentialminus": [
            [
             0,
             "#0d0887"
            ],
            [
             0.1111111111111111,
             "#46039f"
            ],
            [
             0.2222222222222222,
             "#7201a8"
            ],
            [
             0.3333333333333333,
             "#9c179e"
            ],
            [
             0.4444444444444444,
             "#bd3786"
            ],
            [
             0.5555555555555556,
             "#d8576b"
            ],
            [
             0.6666666666666666,
             "#ed7953"
            ],
            [
             0.7777777777777778,
             "#fb9f3a"
            ],
            [
             0.8888888888888888,
             "#fdca26"
            ],
            [
             1,
             "#f0f921"
            ]
           ]
          },
          "colorway": [
           "#636efa",
           "#EF553B",
           "#00cc96",
           "#ab63fa",
           "#FFA15A",
           "#19d3f3",
           "#FF6692",
           "#B6E880",
           "#FF97FF",
           "#FECB52"
          ],
          "font": {
           "color": "#2a3f5f"
          },
          "geo": {
           "bgcolor": "white",
           "lakecolor": "white",
           "landcolor": "#E5ECF6",
           "showlakes": true,
           "showland": true,
           "subunitcolor": "white"
          },
          "hoverlabel": {
           "align": "left"
          },
          "hovermode": "closest",
          "mapbox": {
           "style": "light"
          },
          "paper_bgcolor": "white",
          "plot_bgcolor": "#E5ECF6",
          "polar": {
           "angularaxis": {
            "gridcolor": "white",
            "linecolor": "white",
            "ticks": ""
           },
           "bgcolor": "#E5ECF6",
           "radialaxis": {
            "gridcolor": "white",
            "linecolor": "white",
            "ticks": ""
           }
          },
          "scene": {
           "xaxis": {
            "backgroundcolor": "#E5ECF6",
            "gridcolor": "white",
            "gridwidth": 2,
            "linecolor": "white",
            "showbackground": true,
            "ticks": "",
            "zerolinecolor": "white"
           },
           "yaxis": {
            "backgroundcolor": "#E5ECF6",
            "gridcolor": "white",
            "gridwidth": 2,
            "linecolor": "white",
            "showbackground": true,
            "ticks": "",
            "zerolinecolor": "white"
           },
           "zaxis": {
            "backgroundcolor": "#E5ECF6",
            "gridcolor": "white",
            "gridwidth": 2,
            "linecolor": "white",
            "showbackground": true,
            "ticks": "",
            "zerolinecolor": "white"
           }
          },
          "shapedefaults": {
           "line": {
            "color": "#2a3f5f"
           }
          },
          "ternary": {
           "aaxis": {
            "gridcolor": "white",
            "linecolor": "white",
            "ticks": ""
           },
           "baxis": {
            "gridcolor": "white",
            "linecolor": "white",
            "ticks": ""
           },
           "bgcolor": "#E5ECF6",
           "caxis": {
            "gridcolor": "white",
            "linecolor": "white",
            "ticks": ""
           }
          },
          "title": {
           "x": 0.05
          },
          "xaxis": {
           "automargin": true,
           "gridcolor": "white",
           "linecolor": "white",
           "ticks": "",
           "title": {
            "standoff": 15
           },
           "zerolinecolor": "white",
           "zerolinewidth": 2
          },
          "yaxis": {
           "automargin": true,
           "gridcolor": "white",
           "linecolor": "white",
           "ticks": "",
           "title": {
            "standoff": 15
           },
           "zerolinecolor": "white",
           "zerolinewidth": 2
          }
         }
        },
        "title": {
         "text": "MEDIA SENTIMENT"
        },
        "xaxis": {
         "anchor": "y",
         "domain": [
          0,
          1
         ],
         "title": {
          "text": "value"
         }
        },
        "yaxis": {
         "anchor": "x",
         "domain": [
          0,
          1
         ],
         "title": {
          "text": "count"
         }
        }
       }
      }
     },
     "metadata": {},
     "output_type": "display_data"
    }
   ],
   "source": [
    "# histogram of tones\n",
    "timeline_tone_hist = px.histogram(df_timeline_tone[\"Average Tone\"], title= \"MEDIA SENTIMENT\")\n",
    "timeline_tone_hist.show()"
   ]
  },
  {
   "cell_type": "code",
   "execution_count": 9,
   "metadata": {},
   "outputs": [
    {
     "name": "stdout",
     "output_type": "stream",
     "text": [
      "                    datetime  Article Count  All Articles\n",
      "0  2020-05-10 00:00:00+00:00              4          2175\n",
      "1  2020-05-10 00:15:00+00:00              9          2057\n",
      "2  2020-05-10 00:30:00+00:00              3          2357\n",
      "3  2020-05-10 00:45:00+00:00             15          2279\n",
      "4  2020-05-10 01:00:00+00:00             10          1981\n",
      "..                       ...            ...           ...\n",
      "92 2020-05-10 23:00:00+00:00             15          2584\n",
      "93 2020-05-10 23:15:00+00:00              6          2255\n",
      "94 2020-05-10 23:30:00+00:00             16          2477\n",
      "95 2020-05-10 23:45:00+00:00             12          2421\n",
      "96 2020-05-11 00:00:00+00:00              7          2490\n",
      "\n",
      "[97 rows x 3 columns]\n"
     ]
    }
   ],
   "source": [
    "print(timelinevol_raw)"
   ]
  },
  {
   "cell_type": "code",
   "execution_count": 43,
   "metadata": {},
   "outputs": [],
   "source": [
    "#timelinevol_info\n",
    "\n",
    "import requests\n",
    "\n",
    "\n"
   ]
  },
  {
   "cell_type": "code",
   "execution_count": 1,
   "metadata": {},
   "outputs": [
    {
     "data": {
      "text/plain": [
       "'{\"message\":\"The Dog API\",\"version\":\"1.1.8\"}'"
      ]
     },
     "execution_count": 1,
     "metadata": {},
     "output_type": "execute_result"
    }
   ],
   "source": [
    "import requests\n",
    "response = requests.get(\"https://api.thedogapi.com/\")\n",
    "response.text"
   ]
  },
  {
   "cell_type": "code",
   "execution_count": null,
   "metadata": {},
   "outputs": [],
   "source": []
  }
 ],
 "metadata": {
  "kernelspec": {
   "display_name": "Python 3.8.8 ('base')",
   "language": "python",
   "name": "python3"
  },
  "language_info": {
   "codemirror_mode": {
    "name": "ipython",
    "version": 3
   },
   "file_extension": ".py",
   "mimetype": "text/x-python",
   "name": "python",
   "nbconvert_exporter": "python",
   "pygments_lexer": "ipython3",
   "version": "3.8.8"
  },
  "orig_nbformat": 4,
  "vscode": {
   "interpreter": {
    "hash": "4093ea59085b05bb15294411e91a013454ed2f3b5ea7c179e48d0aa7ab827720"
   }
  }
 },
 "nbformat": 4,
 "nbformat_minor": 2
}
